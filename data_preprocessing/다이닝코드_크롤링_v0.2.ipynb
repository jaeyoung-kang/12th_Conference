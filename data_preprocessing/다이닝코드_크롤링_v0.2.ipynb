{
 "cells": [
  {
   "cell_type": "code",
   "execution_count": 19,
   "metadata": {},
   "outputs": [],
   "source": [
    "from bs4 import BeautifulSoup\n",
    "import pandas as pd\n",
    "from selenium import webdriver\n",
    "import time\n",
    "import re\n",
    "from selenium.webdriver.support.ui import WebDriverWait\n",
    "from selenium.webdriver.support import expected_conditions as EC\n",
    "import pandas as pd"
   ]
  },
  {
   "cell_type": "code",
   "execution_count": 42,
   "metadata": {},
   "outputs": [
    {
     "data": {
      "text/html": [
       "<div>\n",
       "<style scoped>\n",
       "    .dataframe tbody tr th:only-of-type {\n",
       "        vertical-align: middle;\n",
       "    }\n",
       "\n",
       "    .dataframe tbody tr th {\n",
       "        vertical-align: top;\n",
       "    }\n",
       "\n",
       "    .dataframe thead th {\n",
       "        text-align: right;\n",
       "    }\n",
       "</style>\n",
       "<table border=\"1\" class=\"dataframe\">\n",
       "  <thead>\n",
       "    <tr style=\"text-align: right;\">\n",
       "      <th></th>\n",
       "      <th>상가업소번호</th>\n",
       "      <th>상호명</th>\n",
       "      <th>지점명</th>\n",
       "      <th>상권업종대분류코드</th>\n",
       "      <th>상권업종대분류명</th>\n",
       "      <th>상권업종중분류코드</th>\n",
       "      <th>상권업종중분류명</th>\n",
       "      <th>상권업종소분류코드</th>\n",
       "      <th>상권업종소분류명</th>\n",
       "      <th>표준산업분류코드</th>\n",
       "      <th>...</th>\n",
       "      <th>건물관리번호</th>\n",
       "      <th>건물명</th>\n",
       "      <th>도로명주소</th>\n",
       "      <th>구우편번호</th>\n",
       "      <th>신우편번호</th>\n",
       "      <th>동정보</th>\n",
       "      <th>층정보</th>\n",
       "      <th>호정보</th>\n",
       "      <th>경도</th>\n",
       "      <th>위도</th>\n",
       "    </tr>\n",
       "  </thead>\n",
       "  <tbody>\n",
       "    <tr>\n",
       "      <th>0</th>\n",
       "      <td>17163092</td>\n",
       "      <td>도전최강달인왕만두</td>\n",
       "      <td>NaN</td>\n",
       "      <td>Q</td>\n",
       "      <td>음식</td>\n",
       "      <td>Q01</td>\n",
       "      <td>한식</td>\n",
       "      <td>Q01A01</td>\n",
       "      <td>한식/백반/한정식</td>\n",
       "      <td>I56111</td>\n",
       "      <td>...</td>\n",
       "      <td>1174010200102170000018014</td>\n",
       "      <td>고덕그라시움</td>\n",
       "      <td>서울특별시 강동구 고덕로 333</td>\n",
       "      <td>134082</td>\n",
       "      <td>5224.0</td>\n",
       "      <td>NaN</td>\n",
       "      <td>NaN</td>\n",
       "      <td>NaN</td>\n",
       "      <td>127.159471</td>\n",
       "      <td>37.556197</td>\n",
       "    </tr>\n",
       "    <tr>\n",
       "      <th>1</th>\n",
       "      <td>17120456</td>\n",
       "      <td>이때</td>\n",
       "      <td>NaN</td>\n",
       "      <td>Q</td>\n",
       "      <td>음식</td>\n",
       "      <td>Q01</td>\n",
       "      <td>한식</td>\n",
       "      <td>Q01A01</td>\n",
       "      <td>한식/백반/한정식</td>\n",
       "      <td>I56111</td>\n",
       "      <td>...</td>\n",
       "      <td>1144012400103900067027687</td>\n",
       "      <td>NaN</td>\n",
       "      <td>서울특별시 마포구 동교로38안길 7</td>\n",
       "      <td>121867</td>\n",
       "      <td>3982.0</td>\n",
       "      <td>NaN</td>\n",
       "      <td>NaN</td>\n",
       "      <td>NaN</td>\n",
       "      <td>126.924660</td>\n",
       "      <td>37.562176</td>\n",
       "    </tr>\n",
       "  </tbody>\n",
       "</table>\n",
       "<p>2 rows × 39 columns</p>\n",
       "</div>"
      ],
      "text/plain": [
       "     상가업소번호        상호명  지점명 상권업종대분류코드 상권업종대분류명 상권업종중분류코드 상권업종중분류명 상권업종소분류코드  \\\n",
       "0  17163092  도전최강달인왕만두  NaN         Q       음식       Q01       한식    Q01A01   \n",
       "1  17120456         이때  NaN         Q       음식       Q01       한식    Q01A01   \n",
       "\n",
       "    상권업종소분류명 표준산업분류코드  ...                     건물관리번호     건물명  \\\n",
       "0  한식/백반/한정식   I56111  ...  1174010200102170000018014  고덕그라시움   \n",
       "1  한식/백반/한정식   I56111  ...  1144012400103900067027687     NaN   \n",
       "\n",
       "                 도로명주소   구우편번호   신우편번호  동정보  층정보  호정보          경도         위도  \n",
       "0    서울특별시 강동구 고덕로 333  134082  5224.0  NaN  NaN  NaN  127.159471  37.556197  \n",
       "1  서울특별시 마포구 동교로38안길 7  121867  3982.0  NaN  NaN  NaN  126.924660  37.562176  \n",
       "\n",
       "[2 rows x 39 columns]"
      ]
     },
     "execution_count": 42,
     "metadata": {},
     "output_type": "execute_result"
    }
   ],
   "source": [
    "market_data = pd.read_csv('소상공인시장진흥공단_상가(상권)정보_서울_202012.csv',sep='|')\n",
    "market_data.head(2)"
   ]
  },
  {
   "cell_type": "code",
   "execution_count": 21,
   "metadata": {},
   "outputs": [],
   "source": [
    "cafe_data = market_data[market_data[\"상권업종중분류명\"] == '커피점/카페']"
   ]
  },
  {
   "cell_type": "code",
   "execution_count": 34,
   "metadata": {},
   "outputs": [
    {
     "data": {
      "text/html": [
       "<div>\n",
       "<style scoped>\n",
       "    .dataframe tbody tr th:only-of-type {\n",
       "        vertical-align: middle;\n",
       "    }\n",
       "\n",
       "    .dataframe tbody tr th {\n",
       "        vertical-align: top;\n",
       "    }\n",
       "\n",
       "    .dataframe thead th {\n",
       "        text-align: right;\n",
       "    }\n",
       "</style>\n",
       "<table border=\"1\" class=\"dataframe\">\n",
       "  <thead>\n",
       "    <tr style=\"text-align: right;\">\n",
       "      <th></th>\n",
       "      <th>0</th>\n",
       "    </tr>\n",
       "    <tr>\n",
       "      <th>Unnamed: 0</th>\n",
       "      <th></th>\n",
       "    </tr>\n",
       "  </thead>\n",
       "  <tbody>\n",
       "    <tr>\n",
       "      <th>0</th>\n",
       "      <td>둔촌2동카페</td>\n",
       "    </tr>\n",
       "    <tr>\n",
       "      <th>1</th>\n",
       "      <td>둔촌1동카페</td>\n",
       "    </tr>\n",
       "  </tbody>\n",
       "</table>\n",
       "</div>"
      ],
      "text/plain": [
       "                 0\n",
       "Unnamed: 0        \n",
       "0           둔촌2동카페\n",
       "1           둔촌1동카페"
      ]
     },
     "execution_count": 34,
     "metadata": {},
     "output_type": "execute_result"
    }
   ],
   "source": [
    "names = pd.read_csv('D:/02.users/wodud2468/toBigs15_crwaler-master/seoul names.csv', index_col=0)\n",
    "names['0'] = names['0'] +'카페'\n",
    "names.head(2)"
   ]
  },
  {
   "cell_type": "code",
   "execution_count": 35,
   "metadata": {},
   "outputs": [],
   "source": [
    "# ChromeDriver 89.0.4389.82(공식 빌드) (64비트)"
   ]
  },
  {
   "cell_type": "code",
   "execution_count": 36,
   "metadata": {},
   "outputs": [],
   "source": [
    "Chrome_directory = 'D:/02.users/wodud2468/chromedriver/chromedriver.exe'\n",
    "driver = webdriver.Chrome(Chrome_directory)\n",
    "options = webdriver.ChromeOptions()\n",
    "options.add_argument('headless')    # 웹 브라우저를 띄우지 않는 headless chrome 옵션 "
   ]
  },
  {
   "cell_type": "code",
   "execution_count": 38,
   "metadata": {},
   "outputs": [
    {
     "data": {
      "text/plain": [
       "'https://www.diningcode.com/list.php?query=둔촌1동카페'"
      ]
     },
     "execution_count": 38,
     "metadata": {},
     "output_type": "execute_result"
    }
   ],
   "source": [
    "'https://www.diningcode.com/list.php?query='+ names['0'][1]"
   ]
  },
  {
   "cell_type": "code",
   "execution_count": 40,
   "metadata": {},
   "outputs": [],
   "source": [
    "url = 'https://www.diningcode.com/list.php?query='+ names['0'][1]\n",
    "driver.get(url)\n",
    "# 페이지 소스 가져오기\n",
    "html=driver.page_source\n",
    "soup = BeautifulSoup(html)\n",
    "time.sleep(2)"
   ]
  },
  {
   "cell_type": "code",
   "execution_count": 183,
   "metadata": {},
   "outputs": [
    {
     "name": "stdout",
     "output_type": "stream",
     "text": [
      "{'name': '엘리펀트커피', 'link': '/profile.php?rid=kZDSMy8d7k1O'} :crawling~~~\n",
      "{'name': '드 까르멜릿', 'link': '/profile.php?rid=pfEZzZ1KBNju'} :crawling~~~\n",
      "crawling_done\n"
     ]
    }
   ],
   "source": [
    "import pandas as pd\n",
    "from bs4 import BeautifulSoup\n",
    "import urllib\n",
    "import os\n",
    "from pathlib import Path\n",
    "import selenium\n",
    "from selenium import webdriver\n",
    "\n",
    "Chrome_directory = 'D:/02.users/wodud2468/chromedriver/chromedriver.exe'\n",
    "driver = webdriver.Chrome(Chrome_directory)\n",
    "options = webdriver.ChromeOptions()\n",
    "options.add_argument('headless')    # 웹 브라우저를 띄우지 않는 headless chrome 옵션 \n",
    "names = pd.read_csv('D:/02.users/wodud2468/toBigs15_crwaler-master/seoul names.csv', index_col=0) # 서울시 행정구역 정보 불러오기\n",
    "\n",
    "base_url = \"https://www.diningcode.com/2018/ajax/list.php\"\n",
    "total_cafe = []\n",
    "\n",
    "   \n",
    "# ---------카페 이름, 링크 크롤링 ----------------\n",
    "# 각 카페의 이름을 가져옵니다.\n",
    "for index, data in names[:10].iterrows():\n",
    "    page = 1 # 한 페이지에 10개씩 보여줍니다.\n",
    "    while(True):\n",
    "        url = base_url + '?' + 'query=' + names.iloc[0].item() + '카페' + '&' + 'page=' + str(page) # 주소 설정\n",
    "        driver.get(url) # 크롬으로 페이지 접속\n",
    "        html = driver.page_source # 페이지 소스 저장\n",
    "        soup = BeautifulSoup(html, 'html.parser') # 스프로 파싱\n",
    "         \n",
    "        # 데이터에서 텍스트를 추출합니다\n",
    "        cafe_list = [data.text.split(' ', 1)[1] for data in soup.find_all(\"span\", class_=\"btxt\")]\n",
    "        cafe_link = [data.get(\"href\") for data in soup.find_all(\"a\", class_='blink')]\n",
    "        review_counts = [int(data.text) for data in soup.find_all(\"span\", class_=\"review button\")]\n",
    "            \n",
    "        # 추출한 데이터를 묶어서 반복합니다.\n",
    "        for pair in zip(cafe_list, cafe_link, review_counts):\n",
    "                \n",
    "            if pair[2] != 0: # 리뷰가 있는 카페만 크롤링합니다.\n",
    "               # 데이터 저장용 딕셔너리를 생성합니다\n",
    "                cafe_dict = {\n",
    "                        'name': pair[0],\n",
    "                        'link': pair[1]\n",
    "                }\n",
    "\n",
    "                    # 만든 딕셔너리가 배열에 없으면 추가합니다.\n",
    "                if cafe_dict not in total_cafe:\n",
    "                    total_cafe.append(cafe_dict)\n",
    "            \n",
    "        if len(cafe_list) != 10: break # 목록이 10개 미만이면 최대 개수에 도달했다는 뜻입니다.   \n",
    "        page += 1\n",
    "            \n",
    "\n",
    "# 카페 상세정보 link는 uri가 포함되어있습니다.\n",
    "base_url = \"https://www.diningcode.com/\"\n",
    "src = \"\"\n",
    "\n",
    "name_list = [] \n",
    "main_tag_list = []\n",
    "score_list = []\n",
    "star_score = []\n",
    "like = []\n",
    "locate = []\n",
    "taste_score = []\n",
    "price_score = []\n",
    "service_score = []\n",
    "feat_text=[]\n",
    "purpose_list = []\n",
    "#---------------------------------\n",
    "cafe_name = []\n",
    "user = []\n",
    "review = []\n",
    "\n",
    "# 위에서 생성된 total_cafe 배열을 사용해 접근합니다.\n",
    "# 예외처리 위한 라이브러리\n",
    "from selenium.common.exceptions import NoSuchElementException,StaleElementReferenceException\n",
    "\n",
    "for cafe in total_cafe[:3]:\n",
    "\n",
    "    # url 생성 후 접근\n",
    "    print(cafe,':crawling~~~')\n",
    "    url = base_url + cafe['link']\n",
    "    driver.get(url)\n",
    "    #방문목적 더보기 클릭   \n",
    "    try:\n",
    "        btn_more = driver.find_element_by_xpath('//*[@id=\"div_profile\"]/div[8]/div[1]/ul[1]/li[1]/span')\n",
    "        btn_more.click()\n",
    "        # time.sleep(1)\n",
    "    except:\n",
    "        break\n",
    "\n",
    "    try:\n",
    "        # 카페명\n",
    "        name_list.append(driver.find_element_by_xpath(\"//*[@id='div_profile']/div[1]/div[2]/p\").text)\n",
    "    except NoSuchElementException:\n",
    "        name_list.append('-')\n",
    "    try:\n",
    "        #메인태그\n",
    "        main_tag_list.append(driver.find_element_by_xpath(\"//*[@id='div_profile']/div[2]/ul/li[3]/span\").text)    \n",
    "    except NoSuchElementException:\n",
    "        main_tag_list.append('-')\n",
    "    try:\n",
    "        # 스코어\n",
    "        score_list.append(driver.find_element_by_xpath(\"//*[@id='div_profile']/div[1]/div[4]/p/strong\").text)\n",
    "    except NoSuchElementException:\n",
    "        score_list.append('-')\n",
    "    try:\n",
    "        # 별점 5점 만점\n",
    "        star_score.append(driver.find_element_by_xpath(\"//*[@id='lbl_review_point']\").text)\n",
    "    except NoSuchElementException:\n",
    "        star_score_list.append('-')\n",
    "        \n",
    "    try:\n",
    "        # 좋아요수\n",
    "        like.append(driver.find_element_by_xpath(\"//*[@id='div_profile']/div[1]/div[5]/a[1]/span/i\").text)\n",
    "    except NoSuchElementException:\n",
    "        like_list.append('-')\n",
    "    try:\n",
    "        # 주소\n",
    "        locate.append(driver.find_element_by_xpath(\"//*[@id='div_profile']/div[2]/ul/li[1]\").text)\n",
    "    except NoSuchElementException:\n",
    "        locate_list.append\n",
    "    try:\n",
    "        # 맛 스코어\n",
    "        taste_score.append(driver.find_element_by_xpath(\"//*[@id='div_profile']/div[8]/div[1]/p[2]/span[1]/i\").text)\n",
    "    except NoSuchElementException:\n",
    "        taste_score.append('-')\n",
    "    try:\n",
    "        # 가격 스코어\n",
    "        price_score.append(driver.find_element_by_xpath(\"//*[@id='div_profile']/div[8]/div[1]/p[2]/span[2]/i\").text)\n",
    "    except NoSuchElementException:\n",
    "        price_score.append('-')\n",
    "    try:\n",
    "        # 서비스 스코어\n",
    "        service_score.append(driver.find_element_by_xpath(\"//*[@id='div_profile']/div[8]/div[1]/p[2]/span[3]/i\").text)\n",
    "    except NoSuchElementException:\n",
    "        service_score.append('-')\n",
    "    try:\n",
    "        # 특징\n",
    "        feat_text.append(driver.find_element_by_xpath(\"//*[@id='div_profile']/div[2]/ul/li[4]\").text)\n",
    "    except NoSuchElementException:\n",
    "        feat_text.append('-')\n",
    "    try:\n",
    "        # 방문목적\n",
    "        purpose_list.append(driver.find_element_by_xpath(\"//*[@id='div_profile']/div[8]/div[1]/ul[1]/li[1]\").text)\n",
    "    except NoSuchElementException:\n",
    "        purpose_list.append('-')    \n",
    "    \n",
    "    #유저 리뷰 크롤링\n",
    "    #리뷰 더보기 버튼 누르기\n",
    "    while True:   \n",
    "        try:\n",
    "            btn_more = driver.find_element_by_xpath('//*[@id=\"div_more_review\"]')\n",
    "            btn_more.click()\n",
    "            # time.sleep(1)\n",
    "        except:\n",
    "            break\n",
    "            \n",
    "    #리뷰 개수만큼 크롤링하기 위해서 리뷰 개수에 대한 정보가 필요하다\n",
    "    rev = driver.find_element_by_xpath('//*[@id=\"div_profile\"]/div[8]/p').text\n",
    "    for i in range(int(rev.split('건')[0])):\n",
    "        #카페명\n",
    "        cafe_name.append(cafe['name'])\n",
    "        #유저ID 및 영향력\n",
    "        user.append(driver.find_elements_by_xpath(\"//p[@class='person-grade']\")[i].text)\n",
    "        #리뷰\n",
    "        review.append(driver.find_elements_by_css_selector('p.review_contents.btxt')[i].text)\n",
    "        \n",
    "        \n",
    "        \n",
    "print('crawling_done')"
   ]
  },
  {
   "cell_type": "code",
   "execution_count": 184,
   "metadata": {},
   "outputs": [
    {
     "data": {
      "text/html": [
       "<div>\n",
       "<style scoped>\n",
       "    .dataframe tbody tr th:only-of-type {\n",
       "        vertical-align: middle;\n",
       "    }\n",
       "\n",
       "    .dataframe tbody tr th {\n",
       "        vertical-align: top;\n",
       "    }\n",
       "\n",
       "    .dataframe thead th {\n",
       "        text-align: right;\n",
       "    }\n",
       "</style>\n",
       "<table border=\"1\" class=\"dataframe\">\n",
       "  <thead>\n",
       "    <tr style=\"text-align: right;\">\n",
       "      <th></th>\n",
       "      <th>name</th>\n",
       "      <th>main_tag</th>\n",
       "      <th>score</th>\n",
       "      <th>star_score</th>\n",
       "      <th>like</th>\n",
       "      <th>locate</th>\n",
       "      <th>taste_score</th>\n",
       "      <th>price_score</th>\n",
       "      <th>service_score</th>\n",
       "      <th>feat_text</th>\n",
       "      <th>purpose_list</th>\n",
       "    </tr>\n",
       "  </thead>\n",
       "  <tbody>\n",
       "    <tr>\n",
       "      <th>0</th>\n",
       "      <td>엘리펀트커피</td>\n",
       "      <td>혼카페</td>\n",
       "      <td>33점</td>\n",
       "      <td>4.5점</td>\n",
       "      <td>11</td>\n",
       "      <td>서울특별시 강동구 둔촌2동 53-3</td>\n",
       "      <td>5.0</td>\n",
       "      <td>2.9</td>\n",
       "      <td>5.0</td>\n",
       "      <td>빈티지, 무료주차</td>\n",
       "      <td>방문목적\\n혼카페(2) 차모임(1) 데이트(1) 간식(1) 기념일(1)\\n…더보기</td>\n",
       "    </tr>\n",
       "  </tbody>\n",
       "</table>\n",
       "</div>"
      ],
      "text/plain": [
       "     name main_tag score star_score like               locate taste_score  \\\n",
       "0  엘리펀트커피      혼카페   33점       4.5점   11  서울특별시 강동구 둔촌2동 53-3         5.0   \n",
       "\n",
       "  price_score service_score  feat_text  \\\n",
       "0         2.9           5.0  빈티지, 무료주차   \n",
       "\n",
       "                                    purpose_list  \n",
       "0  방문목적\\n혼카페(2) 차모임(1) 데이트(1) 간식(1) 기념일(1)\\n…더보기  "
      ]
     },
     "execution_count": 184,
     "metadata": {},
     "output_type": "execute_result"
    }
   ],
   "source": [
    "crawling_cafe = pd.DataFrame([name_list,main_tag_list,score_list,star_score,like,locate,taste_score,price_score,service_score,feat_text,purpose_list]).T\n",
    "crawling_cafe.columns = ['name','main_tag','score','star_score','like','locate','taste_score','price_score','service_score','feat_text','purpose_list']\n",
    "crawling_cafe"
   ]
  },
  {
   "cell_type": "code",
   "execution_count": 185,
   "metadata": {},
   "outputs": [
    {
     "data": {
      "text/html": [
       "<div>\n",
       "<style scoped>\n",
       "    .dataframe tbody tr th:only-of-type {\n",
       "        vertical-align: middle;\n",
       "    }\n",
       "\n",
       "    .dataframe tbody tr th {\n",
       "        vertical-align: top;\n",
       "    }\n",
       "\n",
       "    .dataframe thead th {\n",
       "        text-align: right;\n",
       "    }\n",
       "</style>\n",
       "<table border=\"1\" class=\"dataframe\">\n",
       "  <thead>\n",
       "    <tr style=\"text-align: right;\">\n",
       "      <th></th>\n",
       "      <th>cafe_name</th>\n",
       "      <th>user</th>\n",
       "      <th>review</th>\n",
       "    </tr>\n",
       "  </thead>\n",
       "  <tbody>\n",
       "    <tr>\n",
       "      <th>0</th>\n",
       "      <td>엘리펀트커피</td>\n",
       "      <td>maibi (37곳 작성, 84개 공감받음)\\n2020년 7월 29일</td>\n",
       "      <td>공부나 업무 보기 좋도록 되어 있습니다. 혼자앉는 자리도 많고 인테리어도 좋습니다.</td>\n",
       "    </tr>\n",
       "    <tr>\n",
       "      <th>1</th>\n",
       "      <td>엘리펀트커피</td>\n",
       "      <td>절대미각장금이 (242곳 작성, 2,300개 공감받음)\\n제 입에선 고기를 씹을때 ...</td>\n",
       "      <td>분위기 좋은 카페! 넓고 꽤나 쾌적하고 조용한 편이지만 가격은 좀 높음 ㅠ</td>\n",
       "    </tr>\n",
       "  </tbody>\n",
       "</table>\n",
       "</div>"
      ],
      "text/plain": [
       "  cafe_name                                               user  \\\n",
       "0    엘리펀트커피             maibi (37곳 작성, 84개 공감받음)\\n2020년 7월 29일   \n",
       "1    엘리펀트커피  절대미각장금이 (242곳 작성, 2,300개 공감받음)\\n제 입에선 고기를 씹을때 ...   \n",
       "\n",
       "                                           review  \n",
       "0  공부나 업무 보기 좋도록 되어 있습니다. 혼자앉는 자리도 많고 인테리어도 좋습니다.  \n",
       "1       분위기 좋은 카페! 넓고 꽤나 쾌적하고 조용한 편이지만 가격은 좀 높음 ㅠ  "
      ]
     },
     "execution_count": 185,
     "metadata": {},
     "output_type": "execute_result"
    }
   ],
   "source": [
    "user_data = pd.DataFrame([cafe_name,user,review]).T\n",
    "user_data.columns=['cafe_name','user','review']\n",
    "user_data"
   ]
  },
  {
   "cell_type": "code",
   "execution_count": null,
   "metadata": {},
   "outputs": [],
   "source": []
  },
  {
   "cell_type": "code",
   "execution_count": null,
   "metadata": {},
   "outputs": [],
   "source": []
  },
  {
   "cell_type": "code",
   "execution_count": 165,
   "metadata": {},
   "outputs": [],
   "source": [
    "import pandas as pd\n",
    "from bs4 import BeautifulSoup\n",
    "import urllib\n",
    "import os\n",
    "from pathlib import Path\n",
    "import selenium\n",
    "from selenium import webdriver\n",
    "\n",
    "Chrome_directory = 'D:/02.users/wodud2468/chromedriver/chromedriver.exe'\n",
    "driver = webdriver.Chrome(Chrome_directory)\n",
    "options = webdriver.ChromeOptions()\n",
    "options.add_argument('headless')    # 웹 브라우저를 띄우지 않는 headless chrome 옵션 \n",
    "\n",
    "from selenium.common.exceptions import NoSuchElementException,StaleElementReferenceException\n",
    "driver.get('https://www.diningcode.com/profile.php?rid=tQjzQKd3R2jR')\n",
    "while True:   \n",
    "    try:\n",
    "        btn_more = driver.find_element_by_xpath('//*[@id=\"div_more_review\"]')\n",
    "        btn_more.click()\n",
    "        # time.sleep(1)\n",
    "    except:\n",
    "        break"
   ]
  },
  {
   "cell_type": "code",
   "execution_count": 169,
   "metadata": {},
   "outputs": [
    {
     "data": {
      "text/plain": [
       "<selenium.webdriver.remote.webelement.WebElement (session=\"7c4878c590fb3b1101585ab4cee29d70\", element=\"843debae-cb59-4b59-ac43-90c4f9c1c84b\")>"
      ]
     },
     "execution_count": 169,
     "metadata": {},
     "output_type": "execute_result"
    }
   ],
   "source": [
    "driver.find_elements_by_xpath(\"//p[@class='person-grade']\")[40]"
   ]
  },
  {
   "cell_type": "code",
   "execution_count": 172,
   "metadata": {},
   "outputs": [
    {
     "data": {
      "text/plain": [
       "<selenium.webdriver.remote.webelement.WebElement (session=\"7c4878c590fb3b1101585ab4cee29d70\", element=\"14ac8391-ff16-4ac0-aa35-cbb895312667\")>"
      ]
     },
     "execution_count": 172,
     "metadata": {},
     "output_type": "execute_result"
    }
   ],
   "source": [
    "driver.find_elements_by_css_selector('p.review_contents.btxt')[40]"
   ]
  },
  {
   "cell_type": "code",
   "execution_count": null,
   "metadata": {},
   "outputs": [],
   "source": []
  }
 ],
 "metadata": {
  "kernelspec": {
   "display_name": "Python 3",
   "language": "python",
   "name": "python3"
  },
  "language_info": {
   "codemirror_mode": {
    "name": "ipython",
    "version": 3
   },
   "file_extension": ".py",
   "mimetype": "text/x-python",
   "name": "python",
   "nbconvert_exporter": "python",
   "pygments_lexer": "ipython3",
   "version": "3.8.5"
  }
 },
 "nbformat": 4,
 "nbformat_minor": 4
}
